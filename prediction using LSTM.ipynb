{
 "cells": [
  {
   "cell_type": "code",
   "execution_count": 4,
   "metadata": {},
   "outputs": [],
   "source": [
    "import pandas as pd\n",
    "df=pd.read_csv('faultset.csv')\n",
    "df1=df.reset_index()['Total']\n",
    "import matplotlib.pyplot as plt\n",
    "import numpy as np"
   ]
  },
  {
   "cell_type": "code",
   "execution_count": 5,
   "metadata": {},
   "outputs": [
    {
     "data": {
      "text/html": [
       "<div>\n",
       "<style scoped>\n",
       "    .dataframe tbody tr th:only-of-type {\n",
       "        vertical-align: middle;\n",
       "    }\n",
       "\n",
       "    .dataframe tbody tr th {\n",
       "        vertical-align: top;\n",
       "    }\n",
       "\n",
       "    .dataframe thead th {\n",
       "        text-align: right;\n",
       "    }\n",
       "</style>\n",
       "<table border=\"1\" class=\"dataframe\">\n",
       "  <thead>\n",
       "    <tr style=\"text-align: right;\">\n",
       "      <th></th>\n",
       "      <th>P1</th>\n",
       "      <th>P2</th>\n",
       "      <th>P3</th>\n",
       "      <th>P4</th>\n",
       "      <th>P5</th>\n",
       "      <th>P6</th>\n",
       "      <th>P7</th>\n",
       "      <th>P8</th>\n",
       "      <th>P9</th>\n",
       "      <th>P10</th>\n",
       "      <th>P11</th>\n",
       "      <th>P12</th>\n",
       "      <th>P13</th>\n",
       "      <th>P14</th>\n",
       "      <th>Total</th>\n",
       "    </tr>\n",
       "  </thead>\n",
       "  <tbody>\n",
       "    <tr>\n",
       "      <th>0</th>\n",
       "      <td>0</td>\n",
       "      <td>0</td>\n",
       "      <td>0</td>\n",
       "      <td>0</td>\n",
       "      <td>0</td>\n",
       "      <td>0</td>\n",
       "      <td>0</td>\n",
       "      <td>0</td>\n",
       "      <td>0</td>\n",
       "      <td>0</td>\n",
       "      <td>0</td>\n",
       "      <td>10</td>\n",
       "      <td>19</td>\n",
       "      <td>6</td>\n",
       "      <td>3</td>\n",
       "    </tr>\n",
       "    <tr>\n",
       "      <th>1</th>\n",
       "      <td>0</td>\n",
       "      <td>0</td>\n",
       "      <td>0</td>\n",
       "      <td>0</td>\n",
       "      <td>0</td>\n",
       "      <td>0</td>\n",
       "      <td>0</td>\n",
       "      <td>13</td>\n",
       "      <td>11</td>\n",
       "      <td>14</td>\n",
       "      <td>10</td>\n",
       "      <td>22</td>\n",
       "      <td>27</td>\n",
       "      <td>6</td>\n",
       "      <td>7</td>\n",
       "    </tr>\n",
       "    <tr>\n",
       "      <th>2</th>\n",
       "      <td>22</td>\n",
       "      <td>5</td>\n",
       "      <td>5</td>\n",
       "      <td>25</td>\n",
       "      <td>20</td>\n",
       "      <td>6</td>\n",
       "      <td>20</td>\n",
       "      <td>23</td>\n",
       "      <td>26</td>\n",
       "      <td>11</td>\n",
       "      <td>26</td>\n",
       "      <td>16</td>\n",
       "      <td>18</td>\n",
       "      <td>8</td>\n",
       "      <td>14</td>\n",
       "    </tr>\n",
       "    <tr>\n",
       "      <th>3</th>\n",
       "      <td>0</td>\n",
       "      <td>0</td>\n",
       "      <td>10</td>\n",
       "      <td>10</td>\n",
       "      <td>6</td>\n",
       "      <td>14</td>\n",
       "      <td>26</td>\n",
       "      <td>24</td>\n",
       "      <td>23</td>\n",
       "      <td>8</td>\n",
       "      <td>26</td>\n",
       "      <td>25</td>\n",
       "      <td>7</td>\n",
       "      <td>16</td>\n",
       "      <td>12</td>\n",
       "    </tr>\n",
       "    <tr>\n",
       "      <th>4</th>\n",
       "      <td>0</td>\n",
       "      <td>0</td>\n",
       "      <td>10</td>\n",
       "      <td>7</td>\n",
       "      <td>5</td>\n",
       "      <td>23</td>\n",
       "      <td>6</td>\n",
       "      <td>8</td>\n",
       "      <td>11</td>\n",
       "      <td>11</td>\n",
       "      <td>20</td>\n",
       "      <td>22</td>\n",
       "      <td>18</td>\n",
       "      <td>14</td>\n",
       "      <td>12</td>\n",
       "    </tr>\n",
       "  </tbody>\n",
       "</table>\n",
       "</div>"
      ],
      "text/plain": [
       "   P1  P2  P3  P4  P5  P6  P7  P8  P9  P10  P11  P12  P13  P14  Total\n",
       "0   0   0   0   0   0   0   0   0   0    0    0   10   19    6      3\n",
       "1   0   0   0   0   0   0   0  13  11   14   10   22   27    6      7\n",
       "2  22   5   5  25  20   6  20  23  26   11   26   16   18    8     14\n",
       "3   0   0  10  10   6  14  26  24  23    8   26   25    7   16     12\n",
       "4   0   0  10   7   5  23   6   8  11   11   20   22   18   14     12"
      ]
     },
     "execution_count": 5,
     "metadata": {},
     "output_type": "execute_result"
    }
   ],
   "source": [
    "df.head()"
   ]
  },
  {
   "cell_type": "code",
   "execution_count": 6,
   "metadata": {},
   "outputs": [
    {
     "name": "stdout",
     "output_type": "stream",
     "text": [
      "0        3\n",
      "1        7\n",
      "2       14\n",
      "3       12\n",
      "4       12\n",
      "        ..\n",
      "2985    14\n",
      "2986    10\n",
      "2987     1\n",
      "2988     6\n",
      "2989     3\n",
      "Name: Total, Length: 2990, dtype: int64\n"
     ]
    }
   ],
   "source": [
    "print(df1)"
   ]
  },
  {
   "cell_type": "code",
   "execution_count": 7,
   "metadata": {},
   "outputs": [],
   "source": [
    "from sklearn.preprocessing import MinMaxScaler\n",
    "scaler=MinMaxScaler(feature_range=(0,1))\n",
    "df1=scaler.fit_transform(np.array(df1).reshape(-1,1))"
   ]
  },
  {
   "cell_type": "code",
   "execution_count": 8,
   "metadata": {},
   "outputs": [
    {
     "name": "stdout",
     "output_type": "stream",
     "text": [
      "[[0.21428571]\n",
      " [0.5       ]\n",
      " [1.        ]\n",
      " ...\n",
      " [0.07142857]\n",
      " [0.42857143]\n",
      " [0.21428571]]\n"
     ]
    }
   ],
   "source": [
    "print(df1)"
   ]
  },
  {
   "cell_type": "code",
   "execution_count": 9,
   "metadata": {},
   "outputs": [],
   "source": [
    "##splitting dataset into train and test split\n",
    "training_size=int(len(df1)*0.65)\n",
    "test_size=len(df1)-training_size\n",
    "train_data,test_data=df1[0:training_size,:],df1[training_size:len(df1),:1]"
   ]
  },
  {
   "cell_type": "code",
   "execution_count": 10,
   "metadata": {},
   "outputs": [
    {
     "name": "stdout",
     "output_type": "stream",
     "text": [
      "sizes of Training and Testing sets are: 1943 1047\n"
     ]
    }
   ],
   "source": [
    "print('sizes of Training and Testing sets are:',training_size,test_size)"
   ]
  },
  {
   "cell_type": "code",
   "execution_count": 11,
   "metadata": {},
   "outputs": [],
   "source": [
    "# convert an array of values into a dataset matrix\n",
    "import numpy\n",
    "def create_dataset(dataset, time_step=1):\n",
    "\tdataX, dataY = [], []\n",
    "\tfor i in range(len(dataset)-time_step-1):\n",
    "\t\ta = dataset[i:(i+time_step), 0]   ###i=0, 0,1,2,3-----99   100 \n",
    "\t\tdataX.append(a)\n",
    "\t\tdataY.append(dataset[i + time_step, 0])\n",
    "\treturn numpy.array(dataX), numpy.array(dataY)"
   ]
  },
  {
   "cell_type": "code",
   "execution_count": 12,
   "metadata": {},
   "outputs": [],
   "source": [
    "# reshape into X=t,t+1,t+2,t+3 and Y=t+4\n",
    "time_step = 100\n",
    "X_train, y_train = create_dataset(train_data, time_step)\n",
    "X_test, ytest = create_dataset(test_data, time_step)"
   ]
  },
  {
   "cell_type": "code",
   "execution_count": 13,
   "metadata": {},
   "outputs": [],
   "source": [
    "# reshape input to be [samples, time steps, features] which is required for LSTM\n",
    "X_train =X_train.reshape(X_train.shape[0],X_train.shape[1] , 1)\n",
    "X_test = X_test.reshape(X_test.shape[0],X_test.shape[1] , 1)"
   ]
  },
  {
   "cell_type": "code",
   "execution_count": 14,
   "metadata": {},
   "outputs": [],
   "source": [
    "### Create the Stacked LSTM model\n",
    "from tensorflow.keras.models import Sequential\n",
    "from tensorflow.keras.layers import Dense\n",
    "from tensorflow.keras.layers import LSTM"
   ]
  },
  {
   "cell_type": "code",
   "execution_count": 15,
   "metadata": {},
   "outputs": [],
   "source": [
    "model=Sequential()\n",
    "model.add(LSTM(50,return_sequences=True,input_shape=(100,1)))\n",
    "model.add(LSTM(50,return_sequences=True))\n",
    "model.add(LSTM(50))\n",
    "model.add(Dense(1))\n",
    "model.compile(loss='mean_squared_error',optimizer='adam')"
   ]
  },
  {
   "cell_type": "code",
   "execution_count": 16,
   "metadata": {},
   "outputs": [
    {
     "name": "stdout",
     "output_type": "stream",
     "text": [
      "Epoch 1/100\n",
      "29/29 [==============================] - 7s 136ms/step - loss: 0.1405 - val_loss: 0.1034\n",
      "Epoch 2/100\n",
      "29/29 [==============================] - 3s 108ms/step - loss: 0.0975 - val_loss: 0.0988\n",
      "Epoch 3/100\n",
      "29/29 [==============================] - 4s 126ms/step - loss: 0.0960 - val_loss: 0.0984\n",
      "Epoch 4/100\n",
      "29/29 [==============================] - 4s 129ms/step - loss: 0.0970 - val_loss: 0.0994\n",
      "Epoch 5/100\n",
      "29/29 [==============================] - 3s 120ms/step - loss: 0.0958 - val_loss: 0.0988\n",
      "Epoch 6/100\n",
      "29/29 [==============================] - 4s 130ms/step - loss: 0.0958 - val_loss: 0.0981\n",
      "Epoch 7/100\n",
      "29/29 [==============================] - 3s 121ms/step - loss: 0.0962 - val_loss: 0.1001\n",
      "Epoch 8/100\n",
      "29/29 [==============================] - 4s 122ms/step - loss: 0.0964 - val_loss: 0.0984\n",
      "Epoch 9/100\n",
      "29/29 [==============================] - 4s 123ms/step - loss: 0.0959 - val_loss: 0.0977\n",
      "Epoch 10/100\n",
      "29/29 [==============================] - 4s 127ms/step - loss: 0.0958 - val_loss: 0.0975\n",
      "Epoch 11/100\n",
      "29/29 [==============================] - 4s 125ms/step - loss: 0.0978 - val_loss: 0.0975\n",
      "Epoch 12/100\n",
      "29/29 [==============================] - 4s 123ms/step - loss: 0.0962 - val_loss: 0.0986\n",
      "Epoch 13/100\n",
      "29/29 [==============================] - 4s 122ms/step - loss: 0.0956 - val_loss: 0.1000\n",
      "Epoch 14/100\n",
      "29/29 [==============================] - 4s 126ms/step - loss: 0.0959 - val_loss: 0.0978\n",
      "Epoch 15/100\n",
      "29/29 [==============================] - 4s 128ms/step - loss: 0.0958 - val_loss: 0.0973\n",
      "Epoch 16/100\n",
      "29/29 [==============================] - 4s 122ms/step - loss: 0.0957 - val_loss: 0.0973\n",
      "Epoch 17/100\n",
      "29/29 [==============================] - 3s 120ms/step - loss: 0.0965 - val_loss: 0.0975\n",
      "Epoch 18/100\n",
      "29/29 [==============================] - 3s 121ms/step - loss: 0.0961 - val_loss: 0.0972\n",
      "Epoch 19/100\n",
      "29/29 [==============================] - 3s 120ms/step - loss: 0.0958 - val_loss: 0.0976\n",
      "Epoch 20/100\n",
      "29/29 [==============================] - 3s 120ms/step - loss: 0.0957 - val_loss: 0.0978\n",
      "Epoch 21/100\n",
      "29/29 [==============================] - 4s 123ms/step - loss: 0.0958 - val_loss: 0.0987\n",
      "Epoch 22/100\n",
      "29/29 [==============================] - 4s 124ms/step - loss: 0.0969 - val_loss: 0.0972\n",
      "Epoch 23/100\n",
      "29/29 [==============================] - 4s 123ms/step - loss: 0.0972 - val_loss: 0.0971\n",
      "Epoch 24/100\n",
      "29/29 [==============================] - 4s 126ms/step - loss: 0.0959 - val_loss: 0.0973\n",
      "Epoch 25/100\n",
      "29/29 [==============================] - 4s 122ms/step - loss: 0.0953 - val_loss: 0.0995\n",
      "Epoch 26/100\n",
      "29/29 [==============================] - 3s 121ms/step - loss: 0.0959 - val_loss: 0.0974\n",
      "Epoch 27/100\n",
      "29/29 [==============================] - 4s 128ms/step - loss: 0.0956 - val_loss: 0.0970\n",
      "Epoch 28/100\n",
      "29/29 [==============================] - 4s 124ms/step - loss: 0.0957 - val_loss: 0.0971\n",
      "Epoch 29/100\n",
      "29/29 [==============================] - 4s 126ms/step - loss: 0.0961 - val_loss: 0.0978\n",
      "Epoch 30/100\n",
      "29/29 [==============================] - 4s 132ms/step - loss: 0.0955 - val_loss: 0.0973\n",
      "Epoch 31/100\n",
      "29/29 [==============================] - 4s 126ms/step - loss: 0.0954 - val_loss: 0.0997\n",
      "Epoch 32/100\n",
      "29/29 [==============================] - 4s 133ms/step - loss: 0.0978 - val_loss: 0.0987\n",
      "Epoch 33/100\n",
      "29/29 [==============================] - 4s 122ms/step - loss: 0.0968 - val_loss: 0.0972\n",
      "Epoch 34/100\n",
      "29/29 [==============================] - 3s 121ms/step - loss: 0.0959 - val_loss: 0.0980\n",
      "Epoch 35/100\n",
      "29/29 [==============================] - 4s 123ms/step - loss: 0.0959 - val_loss: 0.0979\n",
      "Epoch 36/100\n",
      "29/29 [==============================] - 4s 138ms/step - loss: 0.0959 - val_loss: 0.0972\n",
      "Epoch 37/100\n",
      "29/29 [==============================] - 4s 140ms/step - loss: 0.0961 - val_loss: 0.0975\n",
      "Epoch 38/100\n",
      "29/29 [==============================] - 4s 130ms/step - loss: 0.0960 - val_loss: 0.0974\n",
      "Epoch 39/100\n",
      "29/29 [==============================] - 4s 124ms/step - loss: 0.0959 - val_loss: 0.0972\n",
      "Epoch 40/100\n",
      "29/29 [==============================] - 4s 122ms/step - loss: 0.0958 - val_loss: 0.0970\n",
      "Epoch 41/100\n",
      "29/29 [==============================] - 4s 143ms/step - loss: 0.0964 - val_loss: 0.0977\n",
      "Epoch 42/100\n",
      "29/29 [==============================] - 4s 137ms/step - loss: 0.0968 - val_loss: 0.0972\n",
      "Epoch 43/100\n",
      "29/29 [==============================] - 4s 128ms/step - loss: 0.0959 - val_loss: 0.0970\n",
      "Epoch 44/100\n",
      "29/29 [==============================] - 4s 137ms/step - loss: 0.0957 - val_loss: 0.0969\n",
      "Epoch 45/100\n",
      "29/29 [==============================] - 4s 145ms/step - loss: 0.0958 - val_loss: 0.0969\n",
      "Epoch 46/100\n",
      "29/29 [==============================] - 4s 148ms/step - loss: 0.0957 - val_loss: 0.0969\n",
      "Epoch 47/100\n",
      "29/29 [==============================] - 4s 127ms/step - loss: 0.0956 - val_loss: 0.0974\n",
      "Epoch 48/100\n",
      "29/29 [==============================] - 4s 124ms/step - loss: 0.0959 - val_loss: 0.0972\n",
      "Epoch 49/100\n",
      "29/29 [==============================] - 4s 125ms/step - loss: 0.0960 - val_loss: 0.0978\n",
      "Epoch 50/100\n",
      "29/29 [==============================] - 4s 125ms/step - loss: 0.0969 - val_loss: 0.0969\n",
      "Epoch 51/100\n",
      "29/29 [==============================] - 4s 125ms/step - loss: 0.0960 - val_loss: 0.0971\n",
      "Epoch 52/100\n",
      "29/29 [==============================] - 4s 127ms/step - loss: 0.0957 - val_loss: 0.0989\n",
      "Epoch 53/100\n",
      "29/29 [==============================] - 4s 128ms/step - loss: 0.0957 - val_loss: 0.0970\n",
      "Epoch 54/100\n",
      "29/29 [==============================] - 4s 124ms/step - loss: 0.0961 - val_loss: 0.0971\n",
      "Epoch 55/100\n",
      "29/29 [==============================] - 4s 124ms/step - loss: 0.0958 - val_loss: 0.0980\n",
      "Epoch 56/100\n",
      "29/29 [==============================] - 4s 125ms/step - loss: 0.0961 - val_loss: 0.0971\n",
      "Epoch 57/100\n",
      "29/29 [==============================] - 4s 124ms/step - loss: 0.0969 - val_loss: 0.0986\n",
      "Epoch 58/100\n",
      "29/29 [==============================] - 4s 124ms/step - loss: 0.0965 - val_loss: 0.0974\n",
      "Epoch 59/100\n",
      "29/29 [==============================] - 4s 124ms/step - loss: 0.0963 - val_loss: 0.0971\n",
      "Epoch 60/100\n",
      "29/29 [==============================] - 4s 126ms/step - loss: 0.0960 - val_loss: 0.0972\n",
      "Epoch 61/100\n",
      "29/29 [==============================] - 4s 126ms/step - loss: 0.0959 - val_loss: 0.0969\n",
      "Epoch 62/100\n",
      "29/29 [==============================] - 4s 126ms/step - loss: 0.0956 - val_loss: 0.0970\n",
      "Epoch 63/100\n",
      "29/29 [==============================] - 4s 126ms/step - loss: 0.0954 - val_loss: 0.0971\n",
      "Epoch 64/100\n",
      "29/29 [==============================] - 4s 127ms/step - loss: 0.0958 - val_loss: 0.0969\n",
      "Epoch 65/100\n",
      "29/29 [==============================] - 4s 126ms/step - loss: 0.0954 - val_loss: 0.0969\n",
      "Epoch 66/100\n",
      "29/29 [==============================] - 4s 127ms/step - loss: 0.0956 - val_loss: 0.0969\n",
      "Epoch 67/100\n",
      "29/29 [==============================] - 4s 127ms/step - loss: 0.0956 - val_loss: 0.0971\n",
      "Epoch 68/100\n",
      "29/29 [==============================] - 4s 128ms/step - loss: 0.0957 - val_loss: 0.0969\n",
      "Epoch 69/100\n",
      "29/29 [==============================] - 4s 127ms/step - loss: 0.0963 - val_loss: 0.0970\n",
      "Epoch 70/100\n",
      "29/29 [==============================] - 4s 129ms/step - loss: 0.0958 - val_loss: 0.0969\n",
      "Epoch 71/100\n",
      "29/29 [==============================] - 4s 128ms/step - loss: 0.0957 - val_loss: 0.0971\n",
      "Epoch 72/100\n",
      "29/29 [==============================] - 4s 128ms/step - loss: 0.0958 - val_loss: 0.0970\n",
      "Epoch 73/100\n",
      "29/29 [==============================] - 4s 127ms/step - loss: 0.0959 - val_loss: 0.0970\n",
      "Epoch 74/100\n",
      "29/29 [==============================] - 4s 128ms/step - loss: 0.0959 - val_loss: 0.0971\n",
      "Epoch 75/100\n",
      "29/29 [==============================] - 4s 128ms/step - loss: 0.0956 - val_loss: 0.0970\n",
      "Epoch 76/100\n",
      "29/29 [==============================] - 4s 128ms/step - loss: 0.0954 - val_loss: 0.0979\n",
      "Epoch 77/100\n",
      "29/29 [==============================] - 4s 128ms/step - loss: 0.0960 - val_loss: 0.0969\n",
      "Epoch 78/100\n",
      "29/29 [==============================] - 4s 127ms/step - loss: 0.0957 - val_loss: 0.0972\n",
      "Epoch 79/100\n",
      "29/29 [==============================] - 4s 130ms/step - loss: 0.0961 - val_loss: 0.0969\n",
      "Epoch 80/100\n",
      "29/29 [==============================] - 4s 128ms/step - loss: 0.0956 - val_loss: 0.0972\n",
      "Epoch 81/100\n",
      "29/29 [==============================] - 4s 127ms/step - loss: 0.0960 - val_loss: 0.0974\n",
      "Epoch 82/100\n",
      "29/29 [==============================] - 4s 127ms/step - loss: 0.0953 - val_loss: 0.0972\n",
      "Epoch 83/100\n",
      "29/29 [==============================] - 4s 127ms/step - loss: 0.0959 - val_loss: 0.0972\n",
      "Epoch 84/100\n",
      "29/29 [==============================] - 4s 127ms/step - loss: 0.0962 - val_loss: 0.0973\n",
      "Epoch 85/100\n",
      "29/29 [==============================] - 4s 127ms/step - loss: 0.0958 - val_loss: 0.0973\n",
      "Epoch 86/100\n",
      "29/29 [==============================] - 4s 127ms/step - loss: 0.0957 - val_loss: 0.0972\n",
      "Epoch 87/100\n",
      "29/29 [==============================] - 4s 128ms/step - loss: 0.0955 - val_loss: 0.0986\n",
      "Epoch 88/100\n",
      "29/29 [==============================] - 4s 128ms/step - loss: 0.0963 - val_loss: 0.0971\n",
      "Epoch 89/100\n",
      "29/29 [==============================] - 4s 127ms/step - loss: 0.0956 - val_loss: 0.0970\n",
      "Epoch 90/100\n",
      "29/29 [==============================] - 4s 128ms/step - loss: 0.0956 - val_loss: 0.0971\n",
      "Epoch 91/100\n",
      "29/29 [==============================] - 4s 130ms/step - loss: 0.0955 - val_loss: 0.0972\n",
      "Epoch 92/100\n",
      "29/29 [==============================] - 4s 129ms/step - loss: 0.0954 - val_loss: 0.0972\n",
      "Epoch 93/100\n",
      "29/29 [==============================] - 4s 130ms/step - loss: 0.0954 - val_loss: 0.0973\n",
      "Epoch 94/100\n",
      "29/29 [==============================] - 4s 130ms/step - loss: 0.0956 - val_loss: 0.0972\n",
      "Epoch 95/100\n",
      "29/29 [==============================] - 4s 130ms/step - loss: 0.0955 - val_loss: 0.0973\n",
      "Epoch 96/100\n",
      "29/29 [==============================] - 4s 131ms/step - loss: 0.0954 - val_loss: 0.0974\n",
      "Epoch 97/100\n",
      "29/29 [==============================] - 4s 131ms/step - loss: 0.0954 - val_loss: 0.0976\n",
      "Epoch 98/100\n",
      "29/29 [==============================] - 4s 131ms/step - loss: 0.0959 - val_loss: 0.0975\n",
      "Epoch 99/100\n",
      "29/29 [==============================] - 4s 130ms/step - loss: 0.0959 - val_loss: 0.0980\n",
      "Epoch 100/100\n",
      "29/29 [==============================] - 4s 132ms/step - loss: 0.0953 - val_loss: 0.0980\n"
     ]
    },
    {
     "data": {
      "text/plain": [
       "<keras.callbacks.History at 0x2337ed0d948>"
      ]
     },
     "execution_count": 16,
     "metadata": {},
     "output_type": "execute_result"
    }
   ],
   "source": [
    "model.fit(X_train,y_train,validation_data=(X_test,ytest),epochs=100,batch_size=64,verbose=1)"
   ]
  },
  {
   "cell_type": "code",
   "execution_count": 17,
   "metadata": {},
   "outputs": [
    {
     "name": "stdout",
     "output_type": "stream",
     "text": [
      "58/58 [==============================] - 2s 19ms/step\n",
      "30/30 [==============================] - 1s 19ms/step\n"
     ]
    }
   ],
   "source": [
    "import tensorflow as tf\n",
    "### Lets Do the prediction and check performance metrics\n",
    "train_predict=model.predict(X_train)\n",
    "test_predict=model.predict(X_test)\n",
    "\n",
    "##Transformback to original form\n",
    "train_predict=scaler.inverse_transform(train_predict)\n",
    "test_predict=scaler.inverse_transform(test_predict)"
   ]
  },
  {
   "cell_type": "code",
   "execution_count": 18,
   "metadata": {},
   "outputs": [
    {
     "data": {
      "text/plain": [
       "6.851755028119344"
      ]
     },
     "execution_count": 18,
     "metadata": {},
     "output_type": "execute_result"
    }
   ],
   "source": [
    "### Calculate RMSE performance metrics\n",
    "import math\n",
    "from sklearn.metrics import mean_squared_error\n",
    "math.sqrt(mean_squared_error(y_train,train_predict))"
   ]
  },
  {
   "cell_type": "code",
   "execution_count": 19,
   "metadata": {},
   "outputs": [
    {
     "data": {
      "text/plain": [
       "6.85850173269393"
      ]
     },
     "execution_count": 19,
     "metadata": {},
     "output_type": "execute_result"
    }
   ],
   "source": [
    "math.sqrt(mean_squared_error(ytest,test_predict))"
   ]
  },
  {
   "cell_type": "code",
   "execution_count": 20,
   "metadata": {},
   "outputs": [
    {
     "data": {
      "image/png": "[encoded data removed]",
      "text/plain": [
       "<Figure size 432x288 with 1 Axes>"
      ]
     },
     "metadata": {
      "needs_background": "light"
     },
     "output_type": "display_data"
    }
   ],
   "source": [
    "### Plotting \n",
    "# shift train predictions for plotting\n",
    "look_back=100\n",
    "trainPredictPlot = numpy.empty_like(df1)\n",
    "trainPredictPlot[:, :] = np.nan\n",
    "trainPredictPlot[look_back:len(train_predict)+look_back, :] = train_predict\n",
    "# shift test predictions for plotting\n",
    "testPredictPlot = numpy.empty_like(df1)\n",
    "testPredictPlot[:, :] = numpy.nan\n",
    "testPredictPlot[len(train_predict)+(look_back*2)+1:len(df1)-1, :] = test_predict\n",
    "# plot baseline and predictions\n",
    "plt.plot(scaler.inverse_transform(df1))\n",
    "plt.plot(trainPredictPlot)\n",
    "plt.plot(testPredictPlot)\n",
    "plt.show()"
   ]
  },
  {
   "cell_type": "code",
   "execution_count": 21,
   "metadata": {},
   "outputs": [
    {
     "name": "stdout",
     "output_type": "stream",
     "text": [
      "1047\n"
     ]
    }
   ],
   "source": [
    "print(len(test_data))"
   ]
  },
  {
   "cell_type": "code",
   "execution_count": 22,
   "metadata": {},
   "outputs": [
    {
     "data": {
      "text/plain": [
       "(1, 101)"
      ]
     },
     "execution_count": 22,
     "metadata": {},
     "output_type": "execute_result"
    }
   ],
   "source": [
    "x_input=test_data[946:].reshape(1,-1)\n",
    "x_input.shape"
   ]
  },
  {
   "cell_type": "code",
   "execution_count": 23,
   "metadata": {},
   "outputs": [
    {
     "data": {
      "text/plain": [
       "[0.2857142857142857,\n",
       " 0.7142857142857142,\n",
       " 0.9285714285714285,\n",
       " 0.7857142857142857,\n",
       " 0.8571428571428571,\n",
       " 0.14285714285714285,\n",
       " 0.42857142857142855,\n",
       " 0.07142857142857142,\n",
       " 0.7857142857142857,\n",
       " 0.9285714285714285,\n",
       " 0.5714285714285714,\n",
       " 0.9285714285714285,\n",
       " 0.3571428571428571,\n",
       " 0.0,\n",
       " 0.0,\n",
       " 0.9285714285714285,\n",
       " 0.42857142857142855,\n",
       " 1.0,\n",
       " 1.0,\n",
       " 0.6428571428571428,\n",
       " 0.9285714285714285,\n",
       " 0.42857142857142855,\n",
       " 0.5714285714285714,\n",
       " 0.42857142857142855,\n",
       " 0.42857142857142855,\n",
       " 0.14285714285714285,\n",
       " 0.6428571428571428,\n",
       " 0.21428571428571427,\n",
       " 0.21428571428571427,\n",
       " 0.07142857142857142,\n",
       " 1.0,\n",
       " 0.3571428571428571,\n",
       " 0.7142857142857142,\n",
       " 0.6428571428571428,\n",
       " 0.5714285714285714,\n",
       " 0.5714285714285714,\n",
       " 0.0,\n",
       " 1.0,\n",
       " 0.5,\n",
       " 0.07142857142857142,\n",
       " 1.0,\n",
       " 0.0,\n",
       " 0.07142857142857142,\n",
       " 0.7857142857142857,\n",
       " 0.5,\n",
       " 0.3571428571428571,\n",
       " 0.9285714285714285,\n",
       " 0.3571428571428571,\n",
       " 0.7142857142857142,\n",
       " 0.5,\n",
       " 0.07142857142857142,\n",
       " 0.7857142857142857,\n",
       " 0.0,\n",
       " 0.5,\n",
       " 0.2857142857142857,\n",
       " 0.8571428571428571,\n",
       " 1.0,\n",
       " 1.0,\n",
       " 0.7857142857142857,\n",
       " 1.0,\n",
       " 0.9285714285714285,\n",
       " 0.07142857142857142,\n",
       " 0.8571428571428571,\n",
       " 0.07142857142857142,\n",
       " 0.5714285714285714,\n",
       " 0.07142857142857142,\n",
       " 0.07142857142857142,\n",
       " 0.7857142857142857,\n",
       " 0.21428571428571427,\n",
       " 0.6428571428571428,\n",
       " 0.2857142857142857,\n",
       " 0.7857142857142857,\n",
       " 0.7857142857142857,\n",
       " 0.7857142857142857,\n",
       " 0.8571428571428571,\n",
       " 0.3571428571428571,\n",
       " 0.9285714285714285,\n",
       " 0.3571428571428571,\n",
       " 0.21428571428571427,\n",
       " 0.0,\n",
       " 1.0,\n",
       " 0.6428571428571428,\n",
       " 0.5,\n",
       " 0.07142857142857142,\n",
       " 1.0,\n",
       " 0.8571428571428571,\n",
       " 0.21428571428571427,\n",
       " 0.0,\n",
       " 0.5714285714285714,\n",
       " 0.2857142857142857,\n",
       " 0.0,\n",
       " 0.9285714285714285,\n",
       " 0.5714285714285714,\n",
       " 0.7857142857142857,\n",
       " 0.7142857142857142,\n",
       " 0.42857142857142855,\n",
       " 1.0,\n",
       " 0.7142857142857142,\n",
       " 0.07142857142857142,\n",
       " 0.42857142857142855,\n",
       " 0.21428571428571427]"
      ]
     },
     "execution_count": 23,
     "metadata": {},
     "output_type": "execute_result"
    }
   ],
   "source": [
    "temp_input=list(x_input)\n",
    "temp_input=temp_input[0].tolist()\n",
    "temp_input"
   ]
  },
  {
   "cell_type": "code",
   "execution_count": 24,
   "metadata": {},
   "outputs": [],
   "source": [
    "# demonstrate prediction for next 10 days\n",
    "from numpy import array\n",
    "\n",
    "lst_output=[]\n",
    "n_steps=100\n",
    "i=0\n",
    "while(i<90):\n",
    "    \n",
    "    if(len(temp_input)>100):\n",
    "        #print(temp_input)\n",
    "        x_input=np.array(temp_input[1:])\n",
    "        #print(\"{} day input {}\".format(i,x_input))\n",
    "        x_input=x_input.reshape(1,-1)\n",
    "        x_input = x_input.reshape((1, n_steps, 1))\n",
    "        #print(x_input)\n",
    "        yhat = model.predict(x_input, verbose=0)\n",
    "        #print(\"{} day output {}\".format(i,yhat))\n",
    "        temp_input.extend(yhat[0].tolist())\n",
    "        temp_input=temp_input[1:]\n",
    "        #print(temp_input)\n",
    "        lst_output.extend(yhat.tolist())\n",
    "        i=i+1\n",
    "    else:\n",
    "        x_input = x_input.reshape((1, n_steps,1))\n",
    "        yhat = model.predict(x_input, verbose=0)\n",
    "        #print(yhat[0])\n",
    "        temp_input.extend(yhat[0].tolist())\n",
    "        #print(len(temp_input))\n",
    "        lst_output.extend(yhat.tolist())\n",
    "        i=i+1"
   ]
  },
  {
   "cell_type": "code",
   "execution_count": 25,
   "metadata": {},
   "outputs": [
    {
     "name": "stdout",
     "output_type": "stream",
     "text": [
      "[[0.5483627915382385], [0.5402262806892395], [0.5317797660827637], [0.5265428423881531], [0.5242366194725037], [0.5236937999725342], [0.5239683389663696], [0.5245155096054077], [0.5250853896141052], [0.5255904793739319], [0.5260149240493774], [0.5263687968254089], [0.5266665816307068], [0.526921272277832], [0.527142345905304], [0.5273362994194031], [0.5275079607963562], [0.5276604294776917], [0.5277960300445557], [0.527916669845581], [0.5280241966247559], [0.5281196236610413], [0.5282043218612671], [0.5282794833183289], [0.5283457636833191], [0.5284041166305542], [0.5284555554389954], [0.5285007953643799], [0.528540313243866], [0.5285748839378357], [0.5286051034927368], [0.5286315083503723], [0.5286542773246765], [0.5286741256713867], [0.5286914110183716], [0.5287062525749207], [0.5287190675735474], [0.5287302136421204], [0.5287398099899292], [0.5287479758262634], [0.5287550687789917], [0.5287611484527588], [0.5287663340568542], [0.5287708044052124], [0.528774619102478], [0.5287778377532959], [0.5287805795669556], [0.5287830829620361], [0.5287850499153137], [0.5287867784500122], [0.5287882685661316], [0.5287895798683167], [0.5287905931472778], [0.5287915468215942], [0.5287923216819763], [0.5287929773330688], [0.5287935733795166], [0.5287940502166748], [0.528794527053833], [0.5287947654724121], [0.5287951231002808], [0.5287953615188599], [0.528795599937439], [0.5287957787513733], [0.5287958383560181], [0.5287960171699524], [0.5287961363792419], [0.5287961959838867], [0.528796374797821], [0.528796374797821], [0.5287964940071106], [0.5287965536117554], [0.5287966132164001], [0.5287966728210449], [0.5287966728210449], [0.5287967324256897], [0.5287967920303345], [0.5287967324256897], [0.5287967920303345], [0.5287967920303345], [0.5287967920303345], [0.5287967920303345], [0.5287967920303345], [0.5287968516349792], [0.5287967920303345], [0.5287968516349792], [0.5287968516349792], [0.5287967920303345], [0.5287968516349792], [0.5287967920303345]]\n"
     ]
    },
    {
     "data": {
      "text/plain": [
       "90"
      ]
     },
     "execution_count": 25,
     "metadata": {},
     "output_type": "execute_result"
    }
   ],
   "source": [
    "print(lst_output)\n",
    "len(lst_output)"
   ]
  },
  {
   "cell_type": "code",
   "execution_count": 26,
   "metadata": {},
   "outputs": [],
   "source": [
    "day_new=np.arange(1,101)\n",
    "day_pred=np.arange(101,191)"
   ]
  },
  {
   "cell_type": "code",
   "execution_count": 27,
   "metadata": {},
   "outputs": [
    {
     "data": {
      "text/plain": [
       "2990"
      ]
     },
     "execution_count": 27,
     "metadata": {},
     "output_type": "execute_result"
    }
   ],
   "source": [
    "import matplotlib.pyplot as plt\n",
    "len(df1)"
   ]
  },
  {
   "cell_type": "code",
   "execution_count": 28,
   "metadata": {},
   "outputs": [
    {
     "data": {
      "image/png": "[encoded data removed]",
      "text/plain": [
       "<Figure size 432x288 with 1 Axes>"
      ]
     },
     "metadata": {
      "needs_background": "light"
     },
     "output_type": "display_data"
    },
    {
     "data": {
      "image/png": "[encoded data removed]",
      "text/plain": [
       "<Figure size 432x288 with 1 Axes>"
      ]
     },
     "metadata": {
      "needs_background": "light"
     },
     "output_type": "display_data"
    }
   ],
   "source": [
    "plt.plot(day_new,scaler.inverse_transform(df1[2890:]))\n",
    "plt.title('LSTM Plot of Existing Data')\n",
    "plt.show()\n",
    "plt.plot(day_pred,scaler.inverse_transform(lst_output))\n",
    "plt.title('LSTM Plot of Predicted Data')\n",
    "plt.show()"
   ]
  },
  {
   "cell_type": "code",
   "execution_count": null,
   "metadata": {},
   "outputs": [],
   "source": []
  }
 ],
 "metadata": {
  "kernelspec": {
   "display_name": "Python 3",
   "language": "python",
   "name": "python3"
  },
  "language_info": {
   "codemirror_mode": {
    "name": "ipython",
    "version": 3
   },
   "file_extension": ".py",
   "mimetype": "text/x-python",
   "name": "python",
   "nbconvert_exporter": "python",
   "pygments_lexer": "ipython3",
   "version": "3.7.6"
  }
 },
 "nbformat": 4,
 "nbformat_minor": 4
}
